{
 "cells": [
  {
   "cell_type": "markdown",
   "metadata": {},
   "source": [
    "### Text substitution\n",
    "This notebook allows to clean the text in a corpora by substitution of strings in a corpora"
   ]
  },
  {
   "cell_type": "code",
   "execution_count": 1,
   "metadata": {},
   "outputs": [],
   "source": [
    "import os\n",
    "from os import listdir\n",
    "from os.path import isfile, join\n",
    "import re"
   ]
  },
  {
   "cell_type": "code",
   "execution_count": 2,
   "metadata": {},
   "outputs": [],
   "source": [
    "#for nltk corpus\n",
    "#source_dir = \"./data/corpora/nltkCorpus_raw\"\n",
    "#dest_dir = \"./data/corpora/nltkCorpus\"\n",
    "\n",
    "source_dir = \"./data/corpora/reuters_raw\"\n",
    "dest_dir = \"./data/corpora/reuters\""
   ]
  },
  {
   "cell_type": "code",
   "execution_count": 3,
   "metadata": {},
   "outputs": [],
   "source": [
    "listOfFileNames = [fileName for fileName in listdir(source_dir) if isfile(join(source_dir, fileName))]\n",
    "\n",
    "for filename in listOfFileNames:\n",
    "    with open(os.path.join(source_dir, filename), \"r\", errors='backslashreplace') as f:\n",
    "        filedata = f.read()\n",
    "        f.close()\n",
    "    \n",
    "    #for nltkCorpus\n",
    "    #filedataCleaned =re.sub(\"\\.START \\n\\n\",\"\",filedata)\n",
    "    #for reuters \n",
    "    filedataCleaned =re.sub(\"&lt;\",\"<\",filedata)      \n",
    "    \n",
    "    #change the \"w\" to \"x\" if the folder is empty\n",
    "    with open(os.path.join(dest_dir, filename), \"x\") as f:\n",
    "        f.write(filedataCleaned)\n",
    "        f.close()"
   ]
  }
 ],
 "metadata": {
  "kernelspec": {
   "display_name": "Python 3.10.4 ('tesi')",
   "language": "python",
   "name": "python3"
  },
  "language_info": {
   "codemirror_mode": {
    "name": "ipython",
    "version": 3
   },
   "file_extension": ".py",
   "mimetype": "text/x-python",
   "name": "python",
   "nbconvert_exporter": "python",
   "pygments_lexer": "ipython3",
   "version": "3.10.4"
  },
  "orig_nbformat": 4,
  "vscode": {
   "interpreter": {
    "hash": "20cb975c02109accbafa2be35d047791792b4e263bc20b6c63105d80068546e3"
   }
  }
 },
 "nbformat": 4,
 "nbformat_minor": 2
}
