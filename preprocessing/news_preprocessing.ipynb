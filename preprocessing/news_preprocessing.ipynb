{
 "cells": [
  {
   "cell_type": "code",
   "execution_count": 1,
   "metadata": {},
   "outputs": [],
   "source": [
    "import pandas as pd\n",
    "import re\n",
    "\n",
    "df = pd.read_csv(\"./data/corpora/news_raw/articles.csv\",encoding='cp1252')"
   ]
  },
  {
   "cell_type": "code",
   "execution_count": 2,
   "metadata": {},
   "outputs": [],
   "source": [
    "#remove non ascii characters\n",
    "df = df[~df['Article'].str.contains(r'[^\\x00-\\x7F]')]"
   ]
  },
  {
   "cell_type": "code",
   "execution_count": 3,
   "metadata": {},
   "outputs": [],
   "source": [
    "articles = df[\"Article\"]\n",
    "#iterate over a series\n",
    "for index, value in articles.items():\n",
    "    path = \"./data/corpora/news/new\"+str(index)\n",
    "    with open(path, \"x\") as reviewFile:\n",
    "        value = re.sub(\".*: \",\"\", value)\n",
    "        reviewFile.write(value)\n",
    "        reviewFile.close()"
   ]
  }
 ],
 "metadata": {
  "kernelspec": {
   "display_name": "Python 3.10.4 ('tesi')",
   "language": "python",
   "name": "python3"
  },
  "language_info": {
   "codemirror_mode": {
    "name": "ipython",
    "version": 3
   },
   "file_extension": ".py",
   "mimetype": "text/x-python",
   "name": "python",
   "nbconvert_exporter": "python",
   "pygments_lexer": "ipython3",
   "version": "3.10.4"
  },
  "orig_nbformat": 4,
  "vscode": {
   "interpreter": {
    "hash": "20cb975c02109accbafa2be35d047791792b4e263bc20b6c63105d80068546e3"
   }
  }
 },
 "nbformat": 4,
 "nbformat_minor": 2
}
