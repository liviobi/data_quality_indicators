{
 "cells": [
  {
   "cell_type": "markdown",
   "metadata": {},
   "source": [
    "### SMS cleaning\n",
    "Clean the sms corpus and generate a file for each message"
   ]
  },
  {
   "cell_type": "code",
   "execution_count": 20,
   "metadata": {},
   "outputs": [],
   "source": [
    "import re\n",
    "\n",
    "i= 0\n",
    "#delete al content of file \n",
    "open('./data/corpora/sms_spam/spam_cleaned', 'w').close()\n",
    "with open('./data/corpora/sms_spam/spam_cleaned', 'w') as out:\n",
    "    with open('./data/corpora/sms_spam/sms', 'r' ) as f:\n",
    "        for line in f.readlines():\n",
    "            if(\"<>\" not in line):\n",
    "                out.write(line)\n",
    "    f.close()\n",
    "out.close()    "
   ]
  },
  {
   "cell_type": "code",
   "execution_count": 27,
   "metadata": {},
   "outputs": [],
   "source": [
    "with open('./data/corpora/sms_spam/spam_cleaned', 'r') as f:\n",
    "    hamCount = 0\n",
    "    spamCount = 0\n",
    "    for line in f.readlines():\n",
    "        if \"ham \" in line or \"ham   \" in line or \"ham\t\" in line:\n",
    "            l = re.sub(\"ham \", \"\", line)\n",
    "            l = re.sub(\"ham\\t\", \"\", l)\n",
    "            l = re.sub(\"ham\t\", \"\", l)\n",
    "            path = \"./data/corpora/sms_spam/ham/ham_\"+str(hamCount)\n",
    "            hamCount +=1\n",
    "            with open(path, \"x\") as hamFile:\n",
    "                hamFile.write(l)\n",
    "            hamFile.close()    \n",
    "            \n",
    "        elif \"spam\" in line or \"spam    \" in line:    \n",
    "            l = re.sub(\"spam \", \"\", line)\n",
    "            l = re.sub(\"spam\\t\", \"\", l)\n",
    "            path = \"./data/corpora/sms_spam/spam/spam_\"+str(spamCount)\n",
    "            spamCount +=1\n",
    "            with open(path, \"x\") as spamFile:\n",
    "                spamFile.write(l)\n",
    "            spamFile.close()   \n",
    "        else:\n",
    "            print (line)\n",
    "f.close()            "
   ]
  }
 ],
 "metadata": {
  "kernelspec": {
   "display_name": "Python 3.10.4 ('tesi')",
   "language": "python",
   "name": "python3"
  },
  "language_info": {
   "codemirror_mode": {
    "name": "ipython",
    "version": 3
   },
   "file_extension": ".py",
   "mimetype": "text/x-python",
   "name": "python",
   "nbconvert_exporter": "python",
   "pygments_lexer": "ipython3",
   "version": "3.10.4"
  },
  "orig_nbformat": 4,
  "vscode": {
   "interpreter": {
    "hash": "20cb975c02109accbafa2be35d047791792b4e263bc20b6c63105d80068546e3"
   }
  }
 },
 "nbformat": 4,
 "nbformat_minor": 2
}
