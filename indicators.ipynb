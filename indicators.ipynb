{
 "cells": [
  {
   "cell_type": "code",
   "execution_count": 1,
   "id": "2bef5d31",
   "metadata": {},
   "outputs": [
    {
     "name": "stderr",
     "output_type": "stream",
     "text": [
      "[nltk_data] Downloading package averaged_perceptron_tagger to\n",
      "[nltk_data]     C:\\Users\\lbiondo\\AppData\\Roaming\\nltk_data...\n",
      "[nltk_data]   Package averaged_perceptron_tagger is already up-to-\n",
      "[nltk_data]       date!\n",
      "[nltk_data] Downloading package universal_tagset to\n",
      "[nltk_data]     C:\\Users\\lbiondo\\AppData\\Roaming\\nltk_data...\n",
      "[nltk_data]   Package universal_tagset is already up-to-date!\n"
     ]
    },
    {
     "data": {
      "text/plain": [
       "True"
      ]
     },
     "execution_count": 1,
     "metadata": {},
     "output_type": "execute_result"
    }
   ],
   "source": [
    "import string\n",
    "import nltk\n",
    "import enchant\n",
    "from spello.model import SpellCorrectionModel\n",
    "import textstat\n",
    "import re\n",
    "\n",
    "nltk.download('averaged_perceptron_tagger')\n",
    "nltk.download('universal_tagset')"
   ]
  },
  {
   "cell_type": "code",
   "execution_count": 2,
   "id": "8d30344a",
   "metadata": {},
   "outputs": [
    {
     "name": "stderr",
     "output_type": "stream",
     "text": [
      "c:\\Users\\lbiondo\\Anaconda3\\envs\\tesi\\lib\\site-packages\\spello\\model.py:301: UserWarning: This model was saved on spell<1.3.0. As such due to a bug in previous versions, none of customisations made to the config at the time of training were saved along with the model. It is recommended to load the model, apply all required customizations to config and save it again. E.g.\n",
      "\n",
      "from spello.model import SpellCorrectionModel \n",
      "sp = SpellCorrectionModel(language='en')  \n",
      "sp.load('/home/ubuntu/model.pkl')\n",
      "sp.config.min_length_for_spellcorrection = 4 # default is 3\n",
      "sp.config.max_length_for_spellcorrection = 12 # default is 15\n",
      "sp.save(model_save_dir='/home/ubuntu/')\n",
      "\n",
      "After this the model will load without any warnings\n",
      "\n",
      "  warnings.warn(\"This model was saved on spell<1.3.0. As such due to a bug in previous versions, \"\n"
     ]
    },
    {
     "data": {
      "text/plain": [
       "<spello.model.SpellCorrectionModel at 0x2327fe3af50>"
      ]
     },
     "execution_count": 2,
     "metadata": {},
     "output_type": "execute_result"
    }
   ],
   "source": [
    "#load spell checker model\n",
    "sp = SpellCorrectionModel(language='en')\n",
    "sp.load('./spello_model/en_large.pkl')"
   ]
  },
  {
   "cell_type": "code",
   "execution_count": 3,
   "id": "c42370b2",
   "metadata": {},
   "outputs": [],
   "source": [
    "def removePunctuationFromTokenized(contentsTokenized):\n",
    "    excludePuncuation = set(string.punctuation)\n",
    "    \n",
    "    # manually add additional punctuation to remove\n",
    "    doubleSingleQuote = '\\'\\''\n",
    "    doubleDash = '--'\n",
    "    doubleTick = '``'\n",
    "\n",
    "    excludePuncuation.add(doubleSingleQuote)\n",
    "    excludePuncuation.add(doubleDash)\n",
    "    excludePuncuation.add(doubleTick)\n",
    "\n",
    "    filteredContents = [word for word in contentsTokenized if word not in excludePuncuation]\n",
    "    return filteredContents"
   ]
  },
  {
   "cell_type": "markdown",
   "id": "bae9d0e6",
   "metadata": {},
   "source": [
    "#### Lexical Diversity"
   ]
  },
  {
   "cell_type": "code",
   "execution_count": 4,
   "id": "881834bd",
   "metadata": {},
   "outputs": [],
   "source": [
    "def lexical_diversity(text):\n",
    "   return (len(set(text)) / len(text))"
   ]
  },
  {
   "cell_type": "markdown",
   "id": "14926723",
   "metadata": {},
   "source": [
    "#### Percentage of Uppercased and Lowercased Words "
   ]
  },
  {
   "cell_type": "code",
   "execution_count": 5,
   "id": "63e3004f",
   "metadata": {},
   "outputs": [],
   "source": [
    "def percentage_uppercased(text_tokenized):\n",
    "    islower = 0;\n",
    "    isupper = 0;\n",
    "    total_words = len(text_tokenized);\n",
    "\n",
    "    for word in text_tokenized:      \n",
    "        if word.islower():\n",
    "            islower +=1         \n",
    "        elif word.isupper():\n",
    "            isupper+=1         \n",
    "\n",
    "    return (islower/total_words,isupper/total_words)"
   ]
  },
  {
   "cell_type": "markdown",
   "id": "d78bfec8",
   "metadata": {},
   "source": [
    "#### Spell Checking Against Dictionary"
   ]
  },
  {
   "cell_type": "code",
   "execution_count": 6,
   "id": "8fe900f1",
   "metadata": {},
   "outputs": [],
   "source": [
    "def spell_checker_1(text_tokenized):\n",
    "    d = enchant.Dict(\"en_US\")\n",
    "    mistakes = 0\n",
    "    for word in text_tokenized:\n",
    "        if not d.check(word):\n",
    "            mistakes+=1\n",
    "    return mistakes        "
   ]
  },
  {
   "cell_type": "markdown",
   "id": "3df6df67",
   "metadata": {},
   "source": [
    "#### Spell Checking with ML model"
   ]
  },
  {
   "cell_type": "code",
   "execution_count": 7,
   "id": "986728bc",
   "metadata": {},
   "outputs": [],
   "source": [
    "def spell_checker_2(raw_text,text_tokenized):\n",
    "    corrected = sp.spell_correct(raw_text)\n",
    "    i = 0\n",
    "    for w in text_tokenized:\n",
    "        if(w in corrected['correction_dict']):\n",
    "            i+=1\n",
    "    return i"
   ]
  },
  {
   "cell_type": "markdown",
   "id": "065d6848",
   "metadata": {},
   "source": [
    "#### Unrecognized Words by POS Tagger"
   ]
  },
  {
   "cell_type": "code",
   "execution_count": 8,
   "id": "632e3a36",
   "metadata": {},
   "outputs": [],
   "source": [
    "def unrecognized_by_pos(text_tokenized):\n",
    "    text_tagged = nltk.pos_tag(text_tokenized,tagset='universal')\n",
    "    unknown = 0\n",
    "    for t in text_tagged:\n",
    "         if t[1] == \"X\":\n",
    "                #return t\n",
    "                unknown += 1\n",
    "    return unknown/len(text_tagged)            "
   ]
  },
  {
   "cell_type": "markdown",
   "id": "151c628c",
   "metadata": {},
   "source": [
    "#### Average Sentence Length"
   ]
  },
  {
   "cell_type": "code",
   "execution_count": 9,
   "id": "e8752ee8",
   "metadata": {},
   "outputs": [],
   "source": [
    "def avg_sentence_length(text):\n",
    "    \n",
    "    terminating_punct = \"[!?.]\"\n",
    "    punct = r\"\\W\"  # non-word characters\n",
    "    sentences = [\n",
    "        s.strip()  # without trailing whitespace\n",
    "        for s in re.split(\n",
    "            terminating_punct,\n",
    "            \"\".join(text).replace(\"\\n\", \" \"),  # text as 1 string\n",
    "        )\n",
    "        if s.strip()  # non-empty\n",
    "    ]\n",
    "\n",
    "    def wordcount(s):\n",
    "        \"\"\"Split sentence s on punctuation\n",
    "        and return number of non-empty words\n",
    "        \"\"\"\n",
    "        return len([w for w in re.split(punct, s) if w])\n",
    "    #map each sentece to its wordcount then sum all the wordcounts\n",
    "    return sum(map(wordcount, sentences)) / len(sentences)\n"
   ]
  },
  {
   "cell_type": "markdown",
   "id": "6a6542d5",
   "metadata": {},
   "source": [
    "#### Acronyms 1"
   ]
  },
  {
   "cell_type": "code",
   "execution_count": 10,
   "id": "23d71047",
   "metadata": {},
   "outputs": [],
   "source": [
    "#this finds acronyms with with uppercase charcters with numbers inside\n",
    "def acronym1(s):\n",
    "    return re.findall(r\"\\b(?:[0-9]+[A-Z][A-Z0-9]*)|(?:[A-Z][A-Z0-9]+)\\b\", s)"
   ]
  },
  {
   "cell_type": "markdown",
   "id": "6a6542d5",
   "metadata": {},
   "source": [
    "#### Acronyms 2"
   ]
  },
  {
   "cell_type": "code",
   "execution_count": 11,
   "metadata": {},
   "outputs": [],
   "source": [
    "#this finds acronyms of all letters in uppercase and all letters in uppercase followed by dots \n",
    "def acronym2(s):\n",
    "    return re.findall(r\"\\b[A-Z\\.]{2,}\\b\", s)"
   ]
  },
  {
   "cell_type": "markdown",
   "id": "6a6542d5",
   "metadata": {},
   "source": [
    "#### Acronyms"
   ]
  },
  {
   "cell_type": "code",
   "execution_count": 12,
   "id": "a25d68c9",
   "metadata": {},
   "outputs": [],
   "source": [
    "def acronym(s):\n",
    "    acronym1 = re.findall(r\"\\b(?:[0-9]+[A-Z][A-Z0-9]*)|(?:[A-Z][A-Z0-9]+)\\b|\\b[A-Z\\.]{2,}\\b\", s)\n",
    "    acronym2 = re.findall(r\"\\b[A-Z\\.]{2,}\\b\", s)\n",
    "    return  acronym1\n"
   ]
  },
  {
   "cell_type": "code",
   "execution_count": 13,
   "id": "eb2c0ed4",
   "metadata": {},
   "outputs": [
    {
     "name": "stdout",
     "output_type": "stream",
     "text": [
      "Lexical diversity: 0.957\n",
      "Lowercase sentences: 0.739\n",
      "Uppercase sentences: 0.174\n",
      "Spelling mistakes 1: 14\n",
      "Spelling mistakes 2: 7\n",
      "Unrecognized by POS tagger: 0.043478260869565216\n",
      "Average sentence length: 6.000\n",
      "Readability (CLI): 8.27\n",
      "Readability (ARI): 7.3\n",
      "Acronyms:['ABC', 'L.B', 'EC2', 'ABC']\n"
     ]
    }
   ],
   "source": [
    "path = \"./data/input/input.txt\"\n",
    "\n",
    "with open(path, \"r\") as ifile:\n",
    "    raw_text = ifile.read()\n",
    "    \n",
    "#raw_text = \"Sample text to try functions\"    \n",
    "text_tokenized = removePunctuationFromTokenized(nltk.word_tokenize(raw_text))\n",
    "lower,upper = percentage_uppercased(text_tokenized)\n",
    "print(\"Lexical diversity: \" + \"{0:.3f}\".format(lexical_diversity(text_tokenized)))\n",
    "print(\"Lowercase sentences: \"+ \"{0:.3f}\".format(lower))\n",
    "print(\"Uppercase sentences: \"+ \"{0:.3f}\".format(upper))\n",
    "print(\"Spelling mistakes 1: \"  + str(spell_checker_1(text_tokenized)))\n",
    "print(\"Spelling mistakes 2: \"  + str(spell_checker_2(raw_text,text_tokenized)))\n",
    "print(\"Unrecognized by POS tagger: \"+str(unrecognized_by_pos(text_tokenized)))\n",
    "print(\"Average sentence length: \" +\"{0:.3f}\".format(avg_sentence_length(raw_text)))\n",
    "print(\"Readability (CLI): \" + str(textstat.coleman_liau_index(raw_text)))\n",
    "print(\"Readability (ARI): \" + str(textstat.automated_readability_index(raw_text)))\n",
    "print(\"Acronyms:\" + str(acronym(raw_text)))"
   ]
  }
 ],
 "metadata": {
  "interpreter": {
   "hash": "20cb975c02109accbafa2be35d047791792b4e263bc20b6c63105d80068546e3"
  },
  "kernelspec": {
   "display_name": "Python 3.10.4 ('tesi')",
   "language": "python",
   "name": "python3"
  },
  "language_info": {
   "codemirror_mode": {
    "name": "ipython",
    "version": 3
   },
   "file_extension": ".py",
   "mimetype": "text/x-python",
   "name": "python",
   "nbconvert_exporter": "python",
   "pygments_lexer": "ipython3",
   "version": "3.10.4"
  }
 },
 "nbformat": 4,
 "nbformat_minor": 5
}
