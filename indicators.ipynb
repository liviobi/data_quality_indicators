{
 "cells": [
  {
   "cell_type": "code",
   "execution_count": 1,
   "id": "2bef5d31",
   "metadata": {},
   "outputs": [
    {
     "name": "stderr",
     "output_type": "stream",
     "text": [
      "[nltk_data] Downloading package averaged_perceptron_tagger to\n",
      "[nltk_data]     C:\\Users\\livio\\AppData\\Roaming\\nltk_data...\n",
      "[nltk_data]   Package averaged_perceptron_tagger is already up-to-\n",
      "[nltk_data]       date!\n",
      "[nltk_data] Downloading package universal_tagset to\n",
      "[nltk_data]     C:\\Users\\livio\\AppData\\Roaming\\nltk_data...\n",
      "[nltk_data]   Package universal_tagset is already up-to-date!\n"
     ]
    },
    {
     "data": {
      "text/plain": [
       "True"
      ]
     },
     "execution_count": 1,
     "metadata": {},
     "output_type": "execute_result"
    }
   ],
   "source": [
    "import string\n",
    "import nltk\n",
    "import enchant\n",
    "from spello.model import SpellCorrectionModel\n",
    "import textstat\n",
    "\n",
    "nltk.download('averaged_perceptron_tagger')\n",
    "nltk.download('universal_tagset')"
   ]
  },
  {
   "cell_type": "code",
   "execution_count": 2,
   "id": "8d30344a",
   "metadata": {},
   "outputs": [
    {
     "name": "stderr",
     "output_type": "stream",
     "text": [
      "C:\\Users\\livio\\miniconda3\\envs\\tesi\\lib\\site-packages\\spello\\model.py:301: UserWarning: This model was saved on spell<1.3.0. As such due to a bug in previous versions, none of customisations made to the config at the time of training were saved along with the model. It is recommended to load the model, apply all required customizations to config and save it again. E.g.\n",
      "\n",
      "from spello.model import SpellCorrectionModel \n",
      "sp = SpellCorrectionModel(language='en')  \n",
      "sp.load('/home/ubuntu/model.pkl')\n",
      "sp.config.min_length_for_spellcorrection = 4 # default is 3\n",
      "sp.config.max_length_for_spellcorrection = 12 # default is 15\n",
      "sp.save(model_save_dir='/home/ubuntu/')\n",
      "\n",
      "After this the model will load without any warnings\n",
      "\n",
      "  warnings.warn(\"This model was saved on spell<1.3.0. As such due to a bug in previous versions, \"\n"
     ]
    },
    {
     "data": {
      "text/plain": [
       "<spello.model.SpellCorrectionModel at 0x1ed5d349190>"
      ]
     },
     "execution_count": 2,
     "metadata": {},
     "output_type": "execute_result"
    }
   ],
   "source": [
    "#load spell checker model\n",
    "sp = SpellCorrectionModel(language='en')\n",
    "sp.load('./spello_model/en_large.pkl')"
   ]
  },
  {
   "cell_type": "code",
   "execution_count": 5,
   "id": "c42370b2",
   "metadata": {},
   "outputs": [],
   "source": [
    "def removePunctuationFromTokenized(contentsTokenized):\n",
    "    excludePuncuation = set(string.punctuation)\n",
    "    \n",
    "    # manually add additional punctuation to remove\n",
    "    doubleSingleQuote = '\\'\\''\n",
    "    doubleDash = '--'\n",
    "    doubleTick = '``'\n",
    "\n",
    "    excludePuncuation.add(doubleSingleQuote)\n",
    "    excludePuncuation.add(doubleDash)\n",
    "    excludePuncuation.add(doubleTick)\n",
    "\n",
    "    filteredContents = [word for word in contentsTokenized if word not in excludePuncuation]\n",
    "    return filteredContents"
   ]
  },
  {
   "cell_type": "markdown",
   "id": "2f4da2eb",
   "metadata": {},
   "source": [
    "#### Lexical Diversity"
   ]
  },
  {
   "cell_type": "code",
   "execution_count": 26,
   "id": "881834bd",
   "metadata": {},
   "outputs": [],
   "source": [
    "def lexical_diversity(text):\n",
    "   return (len(set(text)) / len(text))"
   ]
  },
  {
   "cell_type": "markdown",
   "id": "085570d3",
   "metadata": {},
   "source": [
    "#### Percentage of Uppercased and Lowercased Words "
   ]
  },
  {
   "cell_type": "code",
   "execution_count": 20,
   "id": "63e3004f",
   "metadata": {},
   "outputs": [],
   "source": [
    "def percentage_uppercased(text_tokenized):\n",
    "    islower = 0;\n",
    "    isupper = 0;\n",
    "    total_words = len(text_tokenized);\n",
    "\n",
    "    for word in text_tokenized:      \n",
    "        if word.islower():\n",
    "            islower +=1         \n",
    "        elif word.isupper():\n",
    "            isupper+=1         \n",
    "\n",
    "    return (islower/total_words,isupper/total_words)"
   ]
  },
  {
   "cell_type": "markdown",
   "id": "7e83b00b",
   "metadata": {},
   "source": [
    "#### Spell Checking Against Dictionary"
   ]
  },
  {
   "cell_type": "code",
   "execution_count": 6,
   "id": "8fe900f1",
   "metadata": {},
   "outputs": [],
   "source": [
    "def spell_checker_1(text_tokenized):\n",
    "    d = enchant.Dict(\"en_US\")\n",
    "    mistakes = 0\n",
    "    for word in text_tokenized:\n",
    "        if not d.check(word):\n",
    "            mistakes+=1\n",
    "    return mistakes        "
   ]
  },
  {
   "cell_type": "markdown",
   "id": "53d2aca2",
   "metadata": {},
   "source": [
    "#### Spell Checking with ML model"
   ]
  },
  {
   "cell_type": "code",
   "execution_count": 7,
   "id": "986728bc",
   "metadata": {},
   "outputs": [],
   "source": [
    "def spell_checker_2(raw_text):\n",
    "    corrected = sp.spell_correct(raw_text)\n",
    "    return len(corrected['correction_dict'])"
   ]
  },
  {
   "cell_type": "markdown",
   "id": "a70841c4",
   "metadata": {},
   "source": [
    "#### Unrecognized Words by POS Tagger"
   ]
  },
  {
   "cell_type": "code",
   "execution_count": 8,
   "id": "632e3a36",
   "metadata": {},
   "outputs": [],
   "source": [
    "def unknown_words(text_tokenized):\n",
    "    text_tagged = nltk.pos_tag(text_tokenized,tagset='universal')\n",
    "    unknown = 0\n",
    "    for t in text_tagged:\n",
    "         if t[1] == \"X\":\n",
    "                #return t\n",
    "                unknown += 1\n",
    "    return unknown/len(text_tagged)            "
   ]
  },
  {
   "cell_type": "markdown",
   "id": "b3924306",
   "metadata": {},
   "source": [
    "#### Average Sentence Length"
   ]
  },
  {
   "cell_type": "code",
   "execution_count": 9,
   "id": "e8752ee8",
   "metadata": {},
   "outputs": [],
   "source": [
    "import doctest\n",
    "import re\n",
    "\n",
    "\n",
    "def avg_sentence_length(text):\n",
    "    \n",
    "    terminating_punct = \"[!?.]\"\n",
    "    punct = r\"\\W\"  # non-word characters\n",
    "    sentences = [\n",
    "        s.strip()  # without trailing whitespace\n",
    "        for s in re.split(\n",
    "            terminating_punct,\n",
    "            \"\".join(text).replace(\"\\n\", \" \"),  # text as 1 string\n",
    "        )\n",
    "        if s.strip()  # non-empty\n",
    "    ]\n",
    "\n",
    "    def wordcount(s):\n",
    "        \"\"\"Split sentence s on punctuation\n",
    "        and return number of non-empty words\n",
    "        \"\"\"\n",
    "        return len([w for w in re.split(punct, s) if w])\n",
    "    #map each sentece to its wordcount then sum all the wordcounts\n",
    "    return sum(map(wordcount, sentences)) / len(sentences)\n"
   ]
  },
  {
   "cell_type": "code",
   "execution_count": 25,
   "id": "eb2c0ed4",
   "metadata": {},
   "outputs": [
    {
     "name": "stdout",
     "output_type": "stream",
     "text": [
      "Lexical diversity:0.2545454545454545\n",
      "All lowercase: 0.593\n",
      "All uppercase: 0.074\n",
      "Spelling mistakes 1: 6\n",
      "Spelling mistakes 2: 2\n",
      "Unrecognized by POS tagger: 0.0\n",
      "Average sentence length: 4.667\n",
      "Readability (CLI): 7.57\n",
      "Readability (ARI): 6.4\n"
     ]
    }
   ],
   "source": [
    "path = \"./data/input/input_file.txt\"\n",
    "\n",
    "with open(path, \"r\") as ifile:\n",
    "    raw_text = ifile.read()\n",
    "    \n",
    "#raw_text = \"Ciao mi chiamo Livio. Questa è una prova sdfsdf sdf sd f\"    \n",
    "print(\"Lexical diversity:\" + str(lexical_diversity(raw_text)))\n",
    "\n",
    "text_tokenized = removePunctuationFromTokenized(nltk.word_tokenize(raw_text))\n",
    "lower,upper = percentage_uppercased(text_tokenized)\n",
    "print(\"All lowercase: \"+ \"{0:.3f}\".format(lower))\n",
    "print(\"All uppercase: \"+ \"{0:.3f}\".format(upper))\n",
    "print(\"Spelling mistakes 1: \"  + str(spell_checker_1(text_tokenized)))\n",
    "print(\"Spelling mistakes 2: \"  + str(spell_checker_2(raw_text)))\n",
    "print(\"Unrecognized by POS tagger: \"+str(unknown_words(text_tokenized)))\n",
    "print(\"Average sentence length: \" +\"{0:.3f}\".format(avg_sentence_length(raw_text)))\n",
    "print(\"Readability (CLI): \" + str(textstat.coleman_liau_index(raw_text)))\n",
    "print(\"Readability (ARI): \" + str(textstat.automated_readability_index(raw_text)))"
   ]
  }
 ],
 "metadata": {
  "kernelspec": {
   "display_name": "Python 3 (ipykernel)",
   "language": "python",
   "name": "python3"
  },
  "language_info": {
   "codemirror_mode": {
    "name": "ipython",
    "version": 3
   },
   "file_extension": ".py",
   "mimetype": "text/x-python",
   "name": "python",
   "nbconvert_exporter": "python",
   "pygments_lexer": "ipython3",
   "version": "3.9.12"
  }
 },
 "nbformat": 4,
 "nbformat_minor": 5
}
